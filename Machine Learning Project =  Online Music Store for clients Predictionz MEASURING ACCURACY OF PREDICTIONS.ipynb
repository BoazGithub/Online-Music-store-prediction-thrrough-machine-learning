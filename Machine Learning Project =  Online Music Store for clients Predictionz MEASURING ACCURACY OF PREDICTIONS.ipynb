{
 "cells": [
  {
   "cell_type": "code",
   "execution_count": null,
   "metadata": {},
   "outputs": [],
   "source": [
    "# MEASURING THE ACCURACY OF A MODEL\n",
    "# Calculating the Accuracy of a Model\n",
    "\n",
    "# ------------ ------------- -----------\n",
    "\n",
    "# IN order to predict, we'll seperate(SPLIT) our dataset into two sets,\n",
    "\n",
    "# One for TRAINING and other for TESTING "
   ]
  },
  {
   "cell_type": "code",
   "execution_count": 9,
   "metadata": {},
   "outputs": [
    {
     "data": {
      "text/plain": [
       "1.0"
      ]
     },
     "execution_count": 9,
     "metadata": {},
     "output_type": "execute_result"
    }
   ],
   "source": [
    "import pandas as pd\n",
    "from sklearn.tree import DecisionTreeClassifier\n",
    "from sklearn.model_selection import train_test_split # train_test_splitis a function\n",
    "from sklearn.metrics import accuracy_score\n",
    "\n",
    "# with this function, we can split dateset into two dataset for TRAINING and TESTING\n",
    "\n",
    "# from sklearn.tree import DecisionTreeClassifier #----  [13]\n",
    "music_data = pd.read_csv('E:\\STUDIEZ\\PROGRAMMING\\Python\\Data\\music.csv')\n",
    "X = music_data.drop(columns=['genre'])\n",
    "Y = music_data['genre']\n",
    "\n",
    "# After defining X and Y sets, we Add to KEYWORD Arguments that specifies a size of TEST DATASET \n",
    "\n",
    "# train_test_split(X, Y, test_size=0.2) #this function will turn Tuple, we've to UNPACK it\n",
    "\n",
    "X_train, X_test, Y_train, Y_test = train_test_split(X, Y, test_size=0.2)\n",
    "\n",
    "model = DecisionTreeClassifier()\n",
    "# model.fit(x,y) #lets not predict from entire dataset, instead use Training dataset\n",
    "\n",
    "model.fit(X_train, Y_train)\n",
    "\n",
    "# predictions = model.predict([ [21,1], [22,0] ])\n",
    "\n",
    "predictions = model.predict(X_test)\n",
    "\n",
    "score = accuracy_score(Y_test, predictions)\n",
    "score"
   ]
  },
  {
   "cell_type": "code",
   "execution_count": 10,
   "metadata": {},
   "outputs": [],
   "source": [
    "# IN MACHINE LEARNING\n",
    "# The more data, cleaned data, the more accuracy you get\n",
    "# the more complex proble, the more complex data we'll need"
   ]
  },
  {
   "cell_type": "code",
   "execution_count": 11,
   "metadata": {},
   "outputs": [],
   "source": [
    "# Persisting Models"
   ]
  },
  {
   "cell_type": "code",
   "execution_count": 3,
   "metadata": {},
   "outputs": [
    {
     "name": "stdout",
     "output_type": "stream",
     "text": [
      "[WinError 2] The system cannot find the file specified: 'E'\n",
      "E:\\\n"
     ]
    }
   ],
   "source": [
    "cd E"
   ]
  },
  {
   "cell_type": "code",
   "execution_count": 5,
   "metadata": {},
   "outputs": [
    {
     "data": {
      "text/plain": [
       "'E:\\\\'"
      ]
     },
     "execution_count": 5,
     "metadata": {},
     "output_type": "execute_result"
    }
   ],
   "source": [
    "pwd"
   ]
  },
  {
   "cell_type": "code",
   "execution_count": null,
   "metadata": {},
   "outputs": [],
   "source": []
  }
 ],
 "metadata": {
  "kernelspec": {
   "display_name": "Python 3",
   "language": "python",
   "name": "python3"
  },
  "language_info": {
   "codemirror_mode": {
    "name": "ipython",
    "version": 3
   },
   "file_extension": ".py",
   "mimetype": "text/x-python",
   "name": "python",
   "nbconvert_exporter": "python",
   "pygments_lexer": "ipython3",
   "version": "3.8.5"
  }
 },
 "nbformat": 4,
 "nbformat_minor": 4
}
